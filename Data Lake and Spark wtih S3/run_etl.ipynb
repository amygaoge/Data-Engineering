{
 "cells": [
  {
   "cell_type": "code",
   "execution_count": 2,
   "metadata": {
    "editable": true
   },
   "outputs": [
    {
     "name": "stdout",
     "output_type": "stream",
     "text": [
      "ETL started.\n",
      "SparkSession Created\n",
      "s3a://udacity-dend//song_data/A/A/A/*.json\n",
      "Success: Read song_data from S3\n",
      "Success: Wrote songs_table to parquet\n",
      "Success: Wrote artists_table to parquet\n",
      "Finish processing song data\n",
      "s3a://udacity-dend//log_data/*/*/2018-11-01-events.json\n",
      "Success: Read log_data from S3\n",
      "Success: Wrote user_table to parquet\n",
      "Success: Wrote time_table to parquet\n",
      "Success: Read song_dataset from S3\n",
      "Success: Wrote songplays_table to parquet\n",
      "Finish processiong log data\n",
      "ETL done.\n"
     ]
    }
   ],
   "source": [
    "% run etl.py"
   ]
  },
  {
   "cell_type": "code",
   "execution_count": null,
   "metadata": {
    "editable": true
   },
   "outputs": [],
   "source": []
  }
 ],
 "metadata": {
  "kernelspec": {
   "display_name": "Python 3",
   "language": "python",
   "name": "python3"
  },
  "language_info": {
   "codemirror_mode": {
    "name": "ipython",
    "version": 3
   },
   "file_extension": ".py",
   "mimetype": "text/x-python",
   "name": "python",
   "nbconvert_exporter": "python",
   "pygments_lexer": "ipython3",
   "version": "3.6.3"
  }
 },
 "nbformat": 4,
 "nbformat_minor": 4
}
